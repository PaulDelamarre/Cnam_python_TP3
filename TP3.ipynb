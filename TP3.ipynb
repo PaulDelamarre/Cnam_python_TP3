{
 "cells": [
  {
   "cell_type": "markdown",
   "metadata": {},
   "source": [
    "## Question 1"
   ]
  },
  {
   "cell_type": "code",
   "execution_count": null,
   "metadata": {},
   "outputs": [],
   "source": [
    "f = open(\"concours.txt\" , 'r')\n",
    "\n",
    "for d in f:\n",
    "    print(d,len(d))\n",
    "contenu_fichier = f.read();\n",
    "f.close()    \n"
   ]
  },
  {
   "cell_type": "code",
   "execution_count": 2,
   "metadata": {},
   "outputs": [],
   "source": [
    "f = open(\"test.txt\" , 'w')\n",
    "d = [1,2,3,4]\n",
    "for a in d:\n",
    "    f.write(str(a)+'\\n')\n",
    "f.close()    "
   ]
  },
  {
   "cell_type": "markdown",
   "metadata": {},
   "source": [
    "## Question 2\n",
    "Dans un repère  Oxy, la liste  des  points  ainsi que  ses valeurs d'abscises  et coordonnées sont  stockés \n",
    "dans le fichier position.txt"
   ]
  },
  {
   "cell_type": "markdown",
   "metadata": {},
   "source": [
    "1. Ecrivez une fonction distance qui prend 2 paramètres étant deux points et qui retourne la distance \n",
    "entre ces deux points\n",
    "Ex : distance(A,B) --> 5"
   ]
  },
  {
   "cell_type": "code",
   "execution_count": 4,
   "metadata": {},
   "outputs": [],
   "source": [
    "def distance(a , b):\n",
    "    \"\"\"find distance between a and b \n",
    "\n",
    "    Args:\n",
    "        a (tuple(int,int)): point a(x,y)\n",
    "        b (tuple(int,int)): point b(x,y)\n",
    "\n",
    "    Returns:\n",
    "        [float]: distance\n",
    "    \"\"\"\n",
    "    return float(((a[0]-b[0])**(2)+(a[1]-b[1])**(2))**(0.5))"
   ]
  },
  {
   "cell_type": "code",
   "execution_count": 6,
   "metadata": {},
   "outputs": [
    {
     "data": {
      "text/plain": [
       "1.4142135623730951"
      ]
     },
     "execution_count": 6,
     "metadata": {},
     "output_type": "execute_result"
    }
   ],
   "source": [
    "a=(1,2)\n",
    "b=(2,3)\n",
    "distance(a,b)"
   ]
  },
  {
   "cell_type": "markdown",
   "metadata": {},
   "source": [
    "2. Ecrivez une fonction plusProche permettant de chercher le point le plus proche en se basant sur sa \n",
    "distance avec les autres points. \n",
    "Ex : plusProche(A) --> K "
   ]
  },
  {
   "cell_type": "code",
   "execution_count": 18,
   "metadata": {},
   "outputs": [],
   "source": [
    "def plusproche(pointSearch , listPoint):\n",
    "    \"\"\"give the closest point  \n",
    "\n",
    "    Args:\n",
    "        pointSearch (tuple(int,int)): point search\n",
    "        listPoint (list(tuple(int,int))): list of other points\n",
    "\n",
    "    Returns:\n",
    "        tuple(int , float): return the closest point and the distance\n",
    "    \"\"\"\n",
    "    plusproche = (listPoint[0] , distance(pointSearch , listPoint[0]));\n",
    "    for point in listPoint:\n",
    "        if(distance(pointSearch,point)<plusproche[1]):\n",
    "            plusproche = (point , distance(pointSearch,point))\n",
    "    return plusproche[0] , plusproche[1]        "
   ]
  },
  {
   "cell_type": "code",
   "execution_count": 41,
   "metadata": {},
   "outputs": [
    {
     "name": "stdout",
     "output_type": "stream",
     "text": [
      "[(4, 5), (2, 4), (9, 8), (9, 0), (9, 5)]\n",
      "(8, 3)\n"
     ]
    },
    {
     "data": {
      "text/plain": [
       "((2, 4), 2.23606797749979)"
      ]
     },
     "execution_count": 41,
     "metadata": {},
     "output_type": "execute_result"
    }
   ],
   "source": [
    "import random\n",
    "list = [(random.randint(0,10),random.randint(0,10)) for i in range(5)]\n",
    "print(list)\n",
    "search = (random.randint(0,10),random.randint(0,10))\n",
    "print(search)\n",
    "plusproche(a, list)"
   ]
  },
  {
   "cell_type": "markdown",
   "metadata": {},
   "source": [
    "3. Ecrivez une fonction estRectangle qui prend 4 paramètres (4 points) et renvoie si on pourra faire un \n",
    "rectangle constitué de ces 4 points*\n",
    "Ex : estRectangle(A, L, M, K) --> True"
   ]
  },
  {
   "cell_type": "code",
   "execution_count": 90,
   "metadata": {},
   "outputs": [],
   "source": [
    "def estRectangle(a ,b ,c ,d):\n",
    "    \"\"\"[summary]\n",
    "\n",
    "    Args:\n",
    "        a (tuple(int ,int)): point a\n",
    "        b (tuple(int ,int)): point b\n",
    "        c (tuple(int ,int)): point c\n",
    "        d (tuple(int ,int)): point d\n",
    "\n",
    "    Returns:\n",
    "        Boolean : Is Rectangle\n",
    "    \"\"\"\n",
    "    list = [b , c ,d]\n",
    "\n",
    "    petit_cote = plusproche(a,list)\n",
    "\n",
    "    list.remove(petit_cote[0])\n",
    "    grand_cote = plusproche(a,list)\n",
    "\n",
    "    list.remove(grand_cote[0])\n",
    "    dernierPoint = list[0]\n",
    "    print(dernierPoint)\n",
    "    return (petit_cote[1] == distance(grand_cote[0],dernierPoint) and (grand_cote[1] == distance(petit_cote[0],dernierPoint) and distance(a,dernierPoint) == distance(petit_cote[0] ,grand_cote[0])))\n"
   ]
  },
  {
   "cell_type": "code",
   "execution_count": 91,
   "metadata": {},
   "outputs": [
    {
     "name": "stdout",
     "output_type": "stream",
     "text": [
      "(5, 6)\n"
     ]
    },
    {
     "data": {
      "text/plain": [
       "True"
      ]
     },
     "execution_count": 91,
     "metadata": {},
     "output_type": "execute_result"
    }
   ],
   "source": [
    "a=(3,2)\n",
    "b=(2,3)\n",
    "c=(5,6)\n",
    "d=(6,5)\n",
    "estRectangle(a,b,c,d)"
   ]
  },
  {
   "cell_type": "markdown",
   "metadata": {},
   "source": [
    "## Question 3\n"
   ]
  },
  {
   "cell_type": "markdown",
   "metadata": {},
   "source": [
    "Soit un fichier intitulé concours.txt qui comporte les enregistrements relatifs aux candidats d’un \n",
    "concours. Chaque enregistrement est composé de : PRENOM, NOM, NOTE, DECISION : (type contenant \n",
    "les identificateurs suivants : admis, refusé, ajourné), et séparé par point-virgule ( ;)."
   ]
  },
  {
   "cell_type": "markdown",
   "metadata": {},
   "source": [
    "1. Définir la fonction saisir() qui permet de remplir à nouveau les données relatives aux candidats dans \n",
    "le fichiers concours.txt"
   ]
  },
  {
   "cell_type": "code",
   "execution_count": 98,
   "metadata": {},
   "outputs": [],
   "source": [
    "def saisir():\n",
    "    \"\"\"append new line on concours.txt\n",
    "    \"\"\"\n",
    "    again = True\n",
    "    f = open(\"concours.txt\" , 'a')\n",
    "    while again:\n",
    "        list = []\n",
    "        name = input(\"Saisir Prenom\")\n",
    "        list.append(name)\n",
    "        surname = input(\"Saisir Nom\")\n",
    "        list.append(surname)\n",
    "        note = input(\"Saisir Note\")\n",
    "        list.append(note)\n",
    "        decision = input(\"Saisir Décision\")\n",
    "        list.append(decision)\n",
    "        \n",
    "        f.write(\",\".join(list)+'\\n')\n",
    "        aws = input(\"Voulez vous continuer ? (O/n) \\n\")\n",
    "        again = (aws.lower == 'o')\n",
    "\n",
    "    f.close()    \n"
   ]
  },
  {
   "cell_type": "code",
   "execution_count": 97,
   "metadata": {},
   "outputs": [],
   "source": [
    "saisir()"
   ]
  },
  {
   "cell_type": "markdown",
   "metadata": {},
   "source": [
    "2. Définir la fonction admis() qui permet de créer le fichier admis.txt comportant les données relatives \n",
    "aux candidats admis."
   ]
  },
  {
   "cell_type": "code",
   "execution_count": 182,
   "metadata": {},
   "outputs": [],
   "source": [
    "def admis():\n",
    "    f = open(\"concours.txt\" , 'r')\n",
    "    f2 = open(\"admis.txt\" , 'r+')\n",
    "    list = f.readlines()\n",
    "    list2 = f2.readlines() \n",
    "    list_admis = [i for i in list if \"admis\" in i] + list2\n",
    "    print(type(list_admis))\n",
    "    list_admis_new = set(list_admis)\n",
    "    print(type(list_admis_new))\n",
    "  \n",
    "    print(\"Nouveaux admis : \",list_admis_new)\n",
    "    f2.seek(0)\n",
    "    f2.write(\"\".join(list_admis_new))\n",
    "    f2.truncate()\n",
    "    f.close()\n",
    "    f2.close()\n",
    "\n",
    "    \n",
    "    "
   ]
  },
  {
   "cell_type": "code",
   "execution_count": 184,
   "metadata": {},
   "outputs": [
    {
     "name": "stdout",
     "output_type": "stream",
     "text": [
      "<class 'list'>\n",
      "<class 'set'>\n",
      "Nouveaux admis :  {'Dorard,Richard,14,admis\\n', 'Alex,Ly,15,admis\\n', 'Paul,Delamarre,12,admis\\n', 'David,Besson,12,admis\\n', 'Romain,Gaborit,18,admis\\n'}\n"
     ]
    }
   ],
   "source": [
    "admis()"
   ]
  },
  {
   "cell_type": "markdown",
   "metadata": {},
   "source": [
    "4. Afin de sélectionner en priorité les candidats admis et ayant une note supérieure à 16, écrivez une \n",
    "fonction priorite() qui filtra à partir du fichier admis.txt et qui produira une nouveau fichier prorité.txt. \n",
    "Une  ligne du nouveau fichier comprend le nom, prénom et la note  d'un candidat  séparés par point-\n",
    "virgule (;)"
   ]
  },
  {
   "cell_type": "code",
   "execution_count": 222,
   "metadata": {},
   "outputs": [],
   "source": [
    "import re\n",
    "def priorite():\n",
    "    \"\"\"find poeple with a note better than 16\n",
    "    \"\"\"\n",
    "    f = open(\"admis.txt\" , 'r+')\n",
    "    f2 = open(\"priorite.txt\" , 'r+')\n",
    "    list = f.readlines()\n",
    "\n",
    "    list_prio = [i for i in list if int((re.search('[0-9]+', i).group(0))) >= 16]\n",
    "    list_prio= set(list_prio)\n",
    "    f2.seek(0)\n",
    "    f2.write(\"\".join(list_prio))\n",
    "    f2.truncate()\n",
    "    f.close()\n",
    "    f2.close()\n"
   ]
  },
  {
   "cell_type": "code",
   "execution_count": 221,
   "metadata": {},
   "outputs": [],
   "source": [
    "priorite()"
   ]
  },
  {
   "cell_type": "markdown",
   "metadata": {},
   "source": [
    "5. Définir la fonction statistiques() qui permet de retourner le pourcentage des candidats en fonction \n",
    "de la décision (admis, refusé et ajourné)."
   ]
  },
  {
   "cell_type": "code",
   "execution_count": 229,
   "metadata": {},
   "outputs": [],
   "source": [
    "def statistiques():\n",
    "    \"\"\"give stat for all status\n",
    "\n",
    "    Returns:\n",
    "        [dict{ key : float}]: stats\n",
    "    \"\"\"\n",
    "    f = open(\"concours.txt\" , 'r')\n",
    "    list = f.readlines()\n",
    "    list_admis = [i for i in list if \"admis\" in i]\n",
    "    list_refus = [i for i in list if \"refusé\" in i]\n",
    "    list_ajourne = [i for i in list if \"ajourné\" in i]\n",
    "    f.close()\n",
    "    return {'admis' : len(list_admis) / len(list)*100 , 'refusé' : len(list_refus) / len(list)*100 ,'ajourné' : len(list_ajourne) / len(list)*100 }"
   ]
  },
  {
   "cell_type": "code",
   "execution_count": 230,
   "metadata": {},
   "outputs": [
    {
     "data": {
      "text/plain": [
       "{'admis': 62.5, 'refusé': 25.0, 'ajourné': 12.5}"
      ]
     },
     "execution_count": 230,
     "metadata": {},
     "output_type": "execute_result"
    }
   ],
   "source": [
    "statistiques()"
   ]
  },
  {
   "cell_type": "markdown",
   "metadata": {},
   "source": [
    "6.  Définir  la  fonction  supprimer()  qui  supprimera  du  fichier  concours.txt  les  candidats  qui  ont  été \n",
    "refusés."
   ]
  },
  {
   "cell_type": "code",
   "execution_count": 234,
   "metadata": {},
   "outputs": [],
   "source": [
    "def supprimer():\n",
    "    f = open(\"concours.txt\" , 'r+')\n",
    "    list = f.readlines()\n",
    "    list_refus = [i for i in list if \"refusé\" in i]\n",
    "    f.seek(0)\n",
    "    f.write(\"\".join(set(list)-set(list_refus)))\n",
    "    f.truncate()\n",
    "    f.close()"
   ]
  },
  {
   "cell_type": "code",
   "execution_count": 235,
   "metadata": {},
   "outputs": [],
   "source": [
    "supprimer()"
   ]
  }
 ],
 "metadata": {
  "interpreter": {
   "hash": "b0fa6594d8f4cbf19f97940f81e996739fb7646882a419484c72d19e05852a7e"
  },
  "kernelspec": {
   "display_name": "Python 3.9.8 64-bit",
   "language": "python",
   "name": "python3"
  },
  "language_info": {
   "codemirror_mode": {
    "name": "ipython",
    "version": 3
   },
   "file_extension": ".py",
   "mimetype": "text/x-python",
   "name": "python",
   "nbconvert_exporter": "python",
   "pygments_lexer": "ipython3",
   "version": "3.9.8"
  },
  "orig_nbformat": 4
 },
 "nbformat": 4,
 "nbformat_minor": 2
}
